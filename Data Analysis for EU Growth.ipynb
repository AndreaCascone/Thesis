{
 "cells": [
  {
   "cell_type": "markdown",
   "metadata": {},
   "source": [
    "# Import Packages"
   ]
  },
  {
   "cell_type": "code",
   "execution_count": 1,
   "metadata": {},
   "outputs": [],
   "source": [
    "from eurostatapiclient import EurostatAPIClient\n",
    "\n",
    "import pandas as pd\n",
    "import numpy as np\n",
    "\n",
    "import statsmodels.api as sm\n",
    "from statsmodels.tsa.stattools import adfuller\n",
    "from statsmodels.graphics.tsaplots import plot_acf, plot_pacf\n",
    "from statsmodels.tsa.arima.model import ARIMA\n",
    "\n",
    "import seaborn as sns\n",
    "\n",
    "sns.set()"
   ]
  },
  {
   "cell_type": "markdown",
   "metadata": {},
   "source": [
    "# Get EU GDP Data"
   ]
  },
  {
   "cell_type": "code",
   "execution_count": 2,
   "metadata": {},
   "outputs": [],
   "source": [
    "# Choose service version : only v2.1 is currently available\n",
    "VERSION = 'v2.1'\n",
    "\n",
    "# Only json is currently available\n",
    "FORMAT = 'json'\n",
    "\n",
    "# Specify language : en, fr, de\n",
    "LANGUAGE = 'en'\n",
    "\n",
    "client = EurostatAPIClient(VERSION, FORMAT, LANGUAGE)"
   ]
  },
  {
   "cell_type": "code",
   "execution_count": 3,
   "metadata": {},
   "outputs": [
    {
     "data": {
      "text/html": [
       "<div>\n",
       "<style scoped>\n",
       "    .dataframe tbody tr th:only-of-type {\n",
       "        vertical-align: middle;\n",
       "    }\n",
       "\n",
       "    .dataframe tbody tr th {\n",
       "        vertical-align: top;\n",
       "    }\n",
       "\n",
       "    .dataframe thead th {\n",
       "        text-align: right;\n",
       "    }\n",
       "</style>\n",
       "<table border=\"1\" class=\"dataframe\">\n",
       "  <thead>\n",
       "    <tr style=\"text-align: right;\">\n",
       "      <th></th>\n",
       "      <th>values</th>\n",
       "      <th>unit</th>\n",
       "      <th>s_adj</th>\n",
       "      <th>na_item</th>\n",
       "      <th>geo</th>\n",
       "      <th>time</th>\n",
       "    </tr>\n",
       "  </thead>\n",
       "  <tbody>\n",
       "    <tr>\n",
       "      <th>0</th>\n",
       "      <td>NaN</td>\n",
       "      <td>CLV10_MEUR</td>\n",
       "      <td>SCA</td>\n",
       "      <td>B1GQ</td>\n",
       "      <td>EA</td>\n",
       "      <td>1975Q1</td>\n",
       "    </tr>\n",
       "    <tr>\n",
       "      <th>1</th>\n",
       "      <td>NaN</td>\n",
       "      <td>CLV10_MEUR</td>\n",
       "      <td>SCA</td>\n",
       "      <td>B1GQ</td>\n",
       "      <td>EA</td>\n",
       "      <td>1975Q2</td>\n",
       "    </tr>\n",
       "    <tr>\n",
       "      <th>2</th>\n",
       "      <td>NaN</td>\n",
       "      <td>CLV10_MEUR</td>\n",
       "      <td>SCA</td>\n",
       "      <td>B1GQ</td>\n",
       "      <td>EA</td>\n",
       "      <td>1975Q3</td>\n",
       "    </tr>\n",
       "    <tr>\n",
       "      <th>3</th>\n",
       "      <td>NaN</td>\n",
       "      <td>CLV10_MEUR</td>\n",
       "      <td>SCA</td>\n",
       "      <td>B1GQ</td>\n",
       "      <td>EA</td>\n",
       "      <td>1975Q4</td>\n",
       "    </tr>\n",
       "    <tr>\n",
       "      <th>4</th>\n",
       "      <td>NaN</td>\n",
       "      <td>CLV10_MEUR</td>\n",
       "      <td>SCA</td>\n",
       "      <td>B1GQ</td>\n",
       "      <td>EA</td>\n",
       "      <td>1976Q1</td>\n",
       "    </tr>\n",
       "  </tbody>\n",
       "</table>\n",
       "</div>"
      ],
      "text/plain": [
       "   values        unit s_adj na_item geo    time\n",
       "0     NaN  CLV10_MEUR   SCA    B1GQ  EA  1975Q1\n",
       "1     NaN  CLV10_MEUR   SCA    B1GQ  EA  1975Q2\n",
       "2     NaN  CLV10_MEUR   SCA    B1GQ  EA  1975Q3\n",
       "3     NaN  CLV10_MEUR   SCA    B1GQ  EA  1975Q4\n",
       "4     NaN  CLV10_MEUR   SCA    B1GQ  EA  1976Q1"
      ]
     },
     "execution_count": 3,
     "metadata": {},
     "output_type": "execute_result"
    }
   ],
   "source": [
    "params = {'unit': 'CLV10_MEUR', 'na_item': 'B1GQ', 'geo': 'EA', 's_adj': 'SCA'}\n",
    "filtered_dataset = client.get_dataset('namq_10_gdp', params=params)\n",
    "filtered_dataframe = filtered_dataset.to_dataframe()\n",
    "filtered_dataframe.head()"
   ]
  },
  {
   "cell_type": "code",
   "execution_count": 4,
   "metadata": {},
   "outputs": [
    {
     "data": {
      "text/html": [
       "<div>\n",
       "<style scoped>\n",
       "    .dataframe tbody tr th:only-of-type {\n",
       "        vertical-align: middle;\n",
       "    }\n",
       "\n",
       "    .dataframe tbody tr th {\n",
       "        vertical-align: top;\n",
       "    }\n",
       "\n",
       "    .dataframe thead th {\n",
       "        text-align: right;\n",
       "    }\n",
       "</style>\n",
       "<table border=\"1\" class=\"dataframe\">\n",
       "  <thead>\n",
       "    <tr style=\"text-align: right;\">\n",
       "      <th></th>\n",
       "      <th>GDP</th>\n",
       "    </tr>\n",
       "    <tr>\n",
       "      <th>Date</th>\n",
       "      <th></th>\n",
       "    </tr>\n",
       "  </thead>\n",
       "  <tbody>\n",
       "    <tr>\n",
       "      <th>1995Q1</th>\n",
       "      <td>1768557.1</td>\n",
       "    </tr>\n",
       "    <tr>\n",
       "      <th>1995Q2</th>\n",
       "      <td>1778159.1</td>\n",
       "    </tr>\n",
       "    <tr>\n",
       "      <th>1995Q3</th>\n",
       "      <td>1782293.6</td>\n",
       "    </tr>\n",
       "    <tr>\n",
       "      <th>1995Q4</th>\n",
       "      <td>1788868.7</td>\n",
       "    </tr>\n",
       "    <tr>\n",
       "      <th>1996Q1</th>\n",
       "      <td>1790962.0</td>\n",
       "    </tr>\n",
       "  </tbody>\n",
       "</table>\n",
       "</div>"
      ],
      "text/plain": [
       "              GDP\n",
       "Date             \n",
       "1995Q1  1768557.1\n",
       "1995Q2  1778159.1\n",
       "1995Q3  1782293.6\n",
       "1995Q4  1788868.7\n",
       "1996Q1  1790962.0"
      ]
     },
     "execution_count": 4,
     "metadata": {},
     "output_type": "execute_result"
    }
   ],
   "source": [
    "dfEU_GDP = filtered_dataframe[['values', 'time']].dropna()\n",
    "dfEU_GDP.columns = ['GDP', 'Date']\n",
    "dfEU_GDP.index = dfEU_GDP['Date']\n",
    "dfEU_GDP = dfEU_GDP.drop('Date', axis=1)\n",
    "dfEU_GDP.head() "
   ]
  },
  {
   "cell_type": "markdown",
   "metadata": {},
   "source": [
    "# Transform GDP to Growth Rate"
   ]
  },
  {
   "cell_type": "code",
   "execution_count": 5,
   "metadata": {},
   "outputs": [
    {
     "data": {
      "text/html": [
       "<div>\n",
       "<style scoped>\n",
       "    .dataframe tbody tr th:only-of-type {\n",
       "        vertical-align: middle;\n",
       "    }\n",
       "\n",
       "    .dataframe tbody tr th {\n",
       "        vertical-align: top;\n",
       "    }\n",
       "\n",
       "    .dataframe thead th {\n",
       "        text-align: right;\n",
       "    }\n",
       "</style>\n",
       "<table border=\"1\" class=\"dataframe\">\n",
       "  <thead>\n",
       "    <tr style=\"text-align: right;\">\n",
       "      <th></th>\n",
       "      <th>Growth</th>\n",
       "    </tr>\n",
       "    <tr>\n",
       "      <th>Date</th>\n",
       "      <th></th>\n",
       "    </tr>\n",
       "  </thead>\n",
       "  <tbody>\n",
       "    <tr>\n",
       "      <th>1995Q2</th>\n",
       "      <td>2.165840</td>\n",
       "    </tr>\n",
       "    <tr>\n",
       "      <th>1995Q3</th>\n",
       "      <td>0.928983</td>\n",
       "    </tr>\n",
       "    <tr>\n",
       "      <th>1995Q4</th>\n",
       "      <td>1.472934</td>\n",
       "    </tr>\n",
       "    <tr>\n",
       "      <th>1996Q1</th>\n",
       "      <td>0.467799</td>\n",
       "    </tr>\n",
       "    <tr>\n",
       "      <th>1996Q2</th>\n",
       "      <td>3.111440</td>\n",
       "    </tr>\n",
       "  </tbody>\n",
       "</table>\n",
       "</div>"
      ],
      "text/plain": [
       "          Growth\n",
       "Date            \n",
       "1995Q2  2.165840\n",
       "1995Q3  0.928983\n",
       "1995Q4  1.472934\n",
       "1996Q1  0.467799\n",
       "1996Q2  3.111440"
      ]
     },
     "execution_count": 5,
     "metadata": {},
     "output_type": "execute_result"
    }
   ],
   "source": [
    "# Transform GDP in Annualized Growth Rate\n",
    "dfEU_GDP=pd.DataFrame((dfEU_GDP), columns=['GDP'])\n",
    "dfEU_Growth = pd.DataFrame(((np.log(dfEU_GDP['GDP']).diff())*400).dropna()) #Multiply by 4*100 to obtain annualized growth rate from quarterly date\n",
    "dfEU_Growth.columns = ['Growth']\n",
    "dfEU_Growth.index = dfEU_Growth.index.rename('Date')\n",
    "dfEU_Growth.index = pd.PeriodIndex(dfEU_Growth.index, freq='Q')\n",
    "dfEU_Growth.head()"
   ]
  },
  {
   "cell_type": "code",
   "execution_count": 6,
   "metadata": {},
   "outputs": [
    {
     "data": {
      "image/png": "[encoded data removed]",
      "text/plain": [
       "<Figure size 432x288 with 1 Axes>"
      ]
     },
     "metadata": {},
     "output_type": "display_data"
    }
   ],
   "source": [
    "sns.lineplot(x=dfEU_Growth.index.to_timestamp(), y=dfEU_Growth['Growth']);"
   ]
  },
  {
   "cell_type": "markdown",
   "metadata": {},
   "source": [
    "# Time Series Analysis"
   ]
  },
  {
   "cell_type": "code",
   "execution_count": 7,
   "metadata": {},
   "outputs": [
    {
     "data": {
      "text/plain": [
       "(-3.8417793052532954,\n",
       " 0.0025076462589031937,\n",
       " 2,\n",
       " 100,\n",
       " {'1%': -3.497501033, '5%': -2.89090644, '10%': -2.5824349},\n",
       " 617.9834457470527)"
      ]
     },
     "execution_count": 7,
     "metadata": {},
     "output_type": "execute_result"
    }
   ],
   "source": [
    "# Test Stationarity\n",
    "adfuller(dfEU_Growth)"
   ]
  },
  {
   "cell_type": "markdown",
   "metadata": {},
   "source": [
    "The null hypothesis that a unit root is present in a time series is rejected, therefore the series is stationary."
   ]
  },
  {
   "cell_type": "code",
   "execution_count": 8,
   "metadata": {},
   "outputs": [
    {
     "data": {
      "image/png": "[encoded data removed]",
      "text/plain": [
       "<Figure size 432x288 with 1 Axes>"
      ]
     },
     "metadata": {},
     "output_type": "display_data"
    },
    {
     "data": {
      "image/png": "[encoded data removed]",
      "text/plain": [
       "<Figure size 432x288 with 1 Axes>"
      ]
     },
     "metadata": {},
     "output_type": "display_data"
    }
   ],
   "source": [
    "# Autocovariance and Partial Autocovariance\n",
    "plot_acf(dfEU_Growth), plot_pacf(dfEU_Growth);"
   ]
  },
  {
   "cell_type": "markdown",
   "metadata": {},
   "source": [
    "The autocovariance and partial autocovariance functions can be used to determine the order of the ARIMA process. As no order can be easily distinguished here, I pick between an ARIMA(1,0,0), ARIMA(0,0,1), and ARIMA(1,0,1) by using the Bayesian information criterion (BIC)."
   ]
  },
  {
   "cell_type": "code",
   "execution_count": 9,
   "metadata": {
    "scrolled": false
   },
   "outputs": [
    {
     "name": "stdout",
     "output_type": "stream",
     "text": [
      "                               SARIMAX Results                                \n",
      "==============================================================================\n",
      "Dep. Variable:                 Growth   No. Observations:                  103\n",
      "Model:                 ARIMA(1, 0, 0)   Log Likelihood                -348.468\n",
      "Date:                Tue, 16 Feb 2021   AIC                            702.936\n",
      "Time:                        16:26:14   BIC                            710.840\n",
      "Sample:                    06-30-1995   HQIC                           706.138\n",
      "                         - 12-31-2020                                         \n",
      "Covariance Type:                  opg                                         \n",
      "==============================================================================\n",
      "                 coef    std err          z      P>|z|      [0.025      0.975]\n",
      "------------------------------------------------------------------------------\n",
      "const          1.4245      1.238      1.151      0.250      -1.002       3.851\n",
      "ar.L1         -0.2440      0.046     -5.258      0.000      -0.335      -0.153\n",
      "sigma2        50.7992      2.352     21.597      0.000      46.189      55.409\n",
      "===================================================================================\n",
      "Ljung-Box (L1) (Q):                   0.10   Jarque-Bera (JB):              6168.82\n",
      "Prob(Q):                              0.75   Prob(JB):                         0.00\n",
      "Heteroskedasticity (H):              16.52   Skew:                            -3.72\n",
      "Prob(H) (two-sided):                  0.00   Kurtosis:                        40.18\n",
      "===================================================================================\n",
      "\n",
      "Warnings:\n",
      "[1] Covariance matrix calculated using the outer product of gradients (complex-step).\n"
     ]
    }
   ],
   "source": [
    "mod=ARIMA(dfEU_Growth, order=(1,0,0)).fit()\n",
    "print(mod.summary())"
   ]
  },
  {
   "cell_type": "code",
   "execution_count": 10,
   "metadata": {
    "scrolled": false
   },
   "outputs": [
    {
     "name": "stdout",
     "output_type": "stream",
     "text": [
      "                               SARIMAX Results                                \n",
      "==============================================================================\n",
      "Dep. Variable:                 Growth   No. Observations:                  103\n",
      "Model:                 ARIMA(0, 0, 1)   Log Likelihood                -347.782\n",
      "Date:                Tue, 16 Feb 2021   AIC                            701.563\n",
      "Time:                        16:26:14   BIC                            709.468\n",
      "Sample:                    06-30-1995   HQIC                           704.765\n",
      "                         - 12-31-2020                                         \n",
      "Covariance Type:                  opg                                         \n",
      "==============================================================================\n",
      "                 coef    std err          z      P>|z|      [0.025      0.975]\n",
      "------------------------------------------------------------------------------\n",
      "const          1.4042      1.149      1.222      0.222      -0.848       3.657\n",
      "ma.L1         -0.2924      0.043     -6.764      0.000      -0.377      -0.208\n",
      "sigma2        50.1137      2.488     20.140      0.000      45.237      54.991\n",
      "===================================================================================\n",
      "Ljung-Box (L1) (Q):                   0.01   Jarque-Bera (JB):              6800.89\n",
      "Prob(Q):                              0.91   Prob(JB):                         0.00\n",
      "Heteroskedasticity (H):              14.36   Skew:                            -4.35\n",
      "Prob(H) (two-sided):                  0.00   Kurtosis:                        41.85\n",
      "===================================================================================\n",
      "\n",
      "Warnings:\n",
      "[1] Covariance matrix calculated using the outer product of gradients (complex-step).\n"
     ]
    }
   ],
   "source": [
    "mod=ARIMA(dfEU_Growth, order=(0,0,1)).fit()\n",
    "print(mod.summary())"
   ]
  },
  {
   "cell_type": "code",
   "execution_count": 11,
   "metadata": {
    "scrolled": false
   },
   "outputs": [
    {
     "name": "stdout",
     "output_type": "stream",
     "text": [
      "                               SARIMAX Results                                \n",
      "==============================================================================\n",
      "Dep. Variable:                 Growth   No. Observations:                  103\n",
      "Model:                 ARIMA(1, 0, 1)   Log Likelihood                -347.701\n",
      "Date:                Tue, 16 Feb 2021   AIC                            703.403\n",
      "Time:                        16:26:14   BIC                            713.942\n",
      "Sample:                    06-30-1995   HQIC                           707.671\n",
      "                         - 12-31-2020                                         \n",
      "Covariance Type:                  opg                                         \n",
      "==============================================================================\n",
      "                 coef    std err          z      P>|z|      [0.025      0.975]\n",
      "------------------------------------------------------------------------------\n",
      "const          1.4016      1.110      1.262      0.207      -0.774       3.578\n",
      "ar.L1          0.1161      0.922      0.126      0.900      -1.692       1.924\n",
      "ma.L1         -0.3962      0.855     -0.463      0.643      -2.072       1.280\n",
      "sigma2        50.0362      2.816     17.772      0.000      44.518      55.554\n",
      "===================================================================================\n",
      "Ljung-Box (L1) (Q):                   0.00   Jarque-Bera (JB):              6705.83\n",
      "Prob(Q):                              1.00   Prob(JB):                         0.00\n",
      "Heteroskedasticity (H):              13.98   Skew:                            -4.30\n",
      "Prob(H) (two-sided):                  0.00   Kurtosis:                        41.58\n",
      "===================================================================================\n",
      "\n",
      "Warnings:\n",
      "[1] Covariance matrix calculated using the outer product of gradients (complex-step).\n"
     ]
    }
   ],
   "source": [
    "mod=ARIMA(dfEU_Growth, order=(1,0,1)).fit()\n",
    "print(mod.summary())"
   ]
  },
  {
   "cell_type": "markdown",
   "metadata": {},
   "source": [
    "I choose the ARIMA(1,0,0) specification based on the BIC. The residuals and the squared residuals are white noise. \n",
    "Significant lags in the squared residuals would have indicated the need for an ARCH/GARCH extension to the model."
   ]
  },
  {
   "cell_type": "code",
   "execution_count": 12,
   "metadata": {
    "scrolled": false
   },
   "outputs": [
    {
     "data": {
      "image/png": "[encoded data removed]",
      "text/plain": [
       "<Figure size 432x288 with 1 Axes>"
      ]
     },
     "metadata": {},
     "output_type": "display_data"
    },
    {
     "data": {
      "image/png": "[encoded data removed]",
      "text/plain": [
       "<Figure size 432x288 with 1 Axes>"
      ]
     },
     "metadata": {},
     "output_type": "display_data"
    }
   ],
   "source": [
    "mod=ARIMA(dfEU_Growth.dropna(), order=(1,0,0)).fit()\n",
    "plot_acf(mod.resid), plot_pacf(mod.resid);"
   ]
  },
  {
   "cell_type": "code",
   "execution_count": 13,
   "metadata": {
    "scrolled": false
   },
   "outputs": [
    {
     "data": {
      "image/png": "[encoded data removed]",
      "text/plain": [
       "<Figure size 432x288 with 1 Axes>"
      ]
     },
     "metadata": {},
     "output_type": "display_data"
    },
    {
     "data": {
      "image/png": "[encoded data removed]",
      "text/plain": [
       "<Figure size 432x288 with 1 Axes>"
      ]
     },
     "metadata": {},
     "output_type": "display_data"
    }
   ],
   "source": [
    "plot_acf(mod.resid**2), plot_pacf(mod.resid**2);"
   ]
  },
  {
   "cell_type": "code",
   "execution_count": 14,
   "metadata": {},
   "outputs": [],
   "source": [
    "# Save DataFrame\n",
    "dfEU_Growth.to_pickle('EU_Growth.pkl')"
   ]
  }
 ],
 "metadata": {
  "kernelspec": {
   "display_name": "Python 3",
   "language": "python",
   "name": "python3"
  },
  "language_info": {
   "codemirror_mode": {
    "name": "ipython",
    "version": 3
   },
   "file_extension": ".py",
   "mimetype": "text/x-python",
   "name": "python",
   "nbconvert_exporter": "python",
   "pygments_lexer": "ipython3",
   "version": "3.8.5"
  }
 },
 "nbformat": 4,
 "nbformat_minor": 4
}
