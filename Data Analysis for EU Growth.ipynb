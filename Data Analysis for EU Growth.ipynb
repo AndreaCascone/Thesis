{
 "cells": [
  {
   "cell_type": "markdown",
   "metadata": {},
   "source": [
    "# Import Packages"
   ]
  },
  {
   "cell_type": "code",
   "execution_count": 1,
   "metadata": {},
   "outputs": [],
   "source": [
    "from eurostatapiclient import EurostatAPIClient\n",
    "import pandas as pd\n",
    "import numpy as np\n",
    "import statsmodels.api as sm\n",
    "from statsmodels.tsa.stattools import adfuller\n",
    "from statsmodels.graphics.tsaplots import plot_acf, plot_pacf\n",
    "from statsmodels.tsa.arima.model import ARIMA\n",
    "import seaborn as sns\n",
    "sns.set()"
   ]
  },
  {
   "cell_type": "markdown",
   "metadata": {},
   "source": [
    "# Get EU GDP Data"
   ]
  },
  {
   "cell_type": "code",
   "execution_count": 2,
   "metadata": {},
   "outputs": [],
   "source": [
    "VERSION = 'v2.1'\n",
    "FORMAT = 'json'\n",
    "LANGUAGE = 'en'\n",
    "client = EurostatAPIClient(VERSION, FORMAT, LANGUAGE)"
   ]
  },
  {
   "cell_type": "code",
   "execution_count": 3,
   "metadata": {},
   "outputs": [
    {
     "data": {
      "text/html": [
       "<div>\n",
       "<style scoped>\n",
       "    .dataframe tbody tr th:only-of-type {\n",
       "        vertical-align: middle;\n",
       "    }\n",
       "\n",
       "    .dataframe tbody tr th {\n",
       "        vertical-align: top;\n",
       "    }\n",
       "\n",
       "    .dataframe thead th {\n",
       "        text-align: right;\n",
       "    }\n",
       "</style>\n",
       "<table border=\"1\" class=\"dataframe\">\n",
       "  <thead>\n",
       "    <tr style=\"text-align: right;\">\n",
       "      <th></th>\n",
       "      <th>values</th>\n",
       "      <th>unit</th>\n",
       "      <th>s_adj</th>\n",
       "      <th>na_item</th>\n",
       "      <th>geo</th>\n",
       "      <th>time</th>\n",
       "    </tr>\n",
       "  </thead>\n",
       "  <tbody>\n",
       "    <tr>\n",
       "      <th>0</th>\n",
       "      <td>NaN</td>\n",
       "      <td>CLV10_MEUR</td>\n",
       "      <td>SCA</td>\n",
       "      <td>B1GQ</td>\n",
       "      <td>EA</td>\n",
       "      <td>1975Q1</td>\n",
       "    </tr>\n",
       "    <tr>\n",
       "      <th>1</th>\n",
       "      <td>NaN</td>\n",
       "      <td>CLV10_MEUR</td>\n",
       "      <td>SCA</td>\n",
       "      <td>B1GQ</td>\n",
       "      <td>EA</td>\n",
       "      <td>1975Q2</td>\n",
       "    </tr>\n",
       "    <tr>\n",
       "      <th>2</th>\n",
       "      <td>NaN</td>\n",
       "      <td>CLV10_MEUR</td>\n",
       "      <td>SCA</td>\n",
       "      <td>B1GQ</td>\n",
       "      <td>EA</td>\n",
       "      <td>1975Q3</td>\n",
       "    </tr>\n",
       "    <tr>\n",
       "      <th>3</th>\n",
       "      <td>NaN</td>\n",
       "      <td>CLV10_MEUR</td>\n",
       "      <td>SCA</td>\n",
       "      <td>B1GQ</td>\n",
       "      <td>EA</td>\n",
       "      <td>1975Q4</td>\n",
       "    </tr>\n",
       "    <tr>\n",
       "      <th>4</th>\n",
       "      <td>NaN</td>\n",
       "      <td>CLV10_MEUR</td>\n",
       "      <td>SCA</td>\n",
       "      <td>B1GQ</td>\n",
       "      <td>EA</td>\n",
       "      <td>1976Q1</td>\n",
       "    </tr>\n",
       "  </tbody>\n",
       "</table>\n",
       "</div>"
      ],
      "text/plain": [
       "   values        unit s_adj na_item geo    time\n",
       "0     NaN  CLV10_MEUR   SCA    B1GQ  EA  1975Q1\n",
       "1     NaN  CLV10_MEUR   SCA    B1GQ  EA  1975Q2\n",
       "2     NaN  CLV10_MEUR   SCA    B1GQ  EA  1975Q3\n",
       "3     NaN  CLV10_MEUR   SCA    B1GQ  EA  1975Q4\n",
       "4     NaN  CLV10_MEUR   SCA    B1GQ  EA  1976Q1"
      ]
     },
     "execution_count": 3,
     "metadata": {},
     "output_type": "execute_result"
    }
   ],
   "source": [
    "params = {'unit': 'CLV10_MEUR', 'na_item': 'B1GQ', 'geo': 'EA', 's_adj': 'SCA'}\n",
    "filtered_dataset = client.get_dataset('namq_10_gdp', params=params)\n",
    "filtered_dataframe = filtered_dataset.to_dataframe()\n",
    "filtered_dataframe.head()"
   ]
  },
  {
   "cell_type": "code",
   "execution_count": 4,
   "metadata": {},
   "outputs": [
    {
     "data": {
      "text/html": [
       "<div>\n",
       "<style scoped>\n",
       "    .dataframe tbody tr th:only-of-type {\n",
       "        vertical-align: middle;\n",
       "    }\n",
       "\n",
       "    .dataframe tbody tr th {\n",
       "        vertical-align: top;\n",
       "    }\n",
       "\n",
       "    .dataframe thead th {\n",
       "        text-align: right;\n",
       "    }\n",
       "</style>\n",
       "<table border=\"1\" class=\"dataframe\">\n",
       "  <thead>\n",
       "    <tr style=\"text-align: right;\">\n",
       "      <th></th>\n",
       "      <th>GDP</th>\n",
       "    </tr>\n",
       "    <tr>\n",
       "      <th>Date</th>\n",
       "      <th></th>\n",
       "    </tr>\n",
       "  </thead>\n",
       "  <tbody>\n",
       "    <tr>\n",
       "      <th>1995Q1</th>\n",
       "      <td>1768557.1</td>\n",
       "    </tr>\n",
       "    <tr>\n",
       "      <th>1995Q2</th>\n",
       "      <td>1778159.1</td>\n",
       "    </tr>\n",
       "    <tr>\n",
       "      <th>1995Q3</th>\n",
       "      <td>1782293.6</td>\n",
       "    </tr>\n",
       "    <tr>\n",
       "      <th>1995Q4</th>\n",
       "      <td>1788868.7</td>\n",
       "    </tr>\n",
       "    <tr>\n",
       "      <th>1996Q1</th>\n",
       "      <td>1790962.0</td>\n",
       "    </tr>\n",
       "  </tbody>\n",
       "</table>\n",
       "</div>"
      ],
      "text/plain": [
       "              GDP\n",
       "Date             \n",
       "1995Q1  1768557.1\n",
       "1995Q2  1778159.1\n",
       "1995Q3  1782293.6\n",
       "1995Q4  1788868.7\n",
       "1996Q1  1790962.0"
      ]
     },
     "execution_count": 4,
     "metadata": {},
     "output_type": "execute_result"
    }
   ],
   "source": [
    "dfEU_GDP = filtered_dataframe[['values', 'time']].dropna()\n",
    "dfEU_GDP.columns = ['GDP', 'Date']\n",
    "dfEU_GDP.index = dfEU_GDP['Date']\n",
    "dfEU_GDP = dfEU_GDP.drop('Date', axis=1)\n",
    "dfEU_GDP.head() "
   ]
  },
  {
   "cell_type": "markdown",
   "metadata": {},
   "source": [
    "# Transform GDP to Growth Rate"
   ]
  },
  {
   "cell_type": "code",
   "execution_count": 5,
   "metadata": {},
   "outputs": [
    {
     "data": {
      "text/html": [
       "<div>\n",
       "<style scoped>\n",
       "    .dataframe tbody tr th:only-of-type {\n",
       "        vertical-align: middle;\n",
       "    }\n",
       "\n",
       "    .dataframe tbody tr th {\n",
       "        vertical-align: top;\n",
       "    }\n",
       "\n",
       "    .dataframe thead th {\n",
       "        text-align: right;\n",
       "    }\n",
       "</style>\n",
       "<table border=\"1\" class=\"dataframe\">\n",
       "  <thead>\n",
       "    <tr style=\"text-align: right;\">\n",
       "      <th></th>\n",
       "      <th>Growth</th>\n",
       "    </tr>\n",
       "    <tr>\n",
       "      <th>Date</th>\n",
       "      <th></th>\n",
       "    </tr>\n",
       "  </thead>\n",
       "  <tbody>\n",
       "    <tr>\n",
       "      <th>1995Q2</th>\n",
       "      <td>2.165840</td>\n",
       "    </tr>\n",
       "    <tr>\n",
       "      <th>1995Q3</th>\n",
       "      <td>0.928983</td>\n",
       "    </tr>\n",
       "    <tr>\n",
       "      <th>1995Q4</th>\n",
       "      <td>1.472934</td>\n",
       "    </tr>\n",
       "    <tr>\n",
       "      <th>1996Q1</th>\n",
       "      <td>0.467799</td>\n",
       "    </tr>\n",
       "    <tr>\n",
       "      <th>1996Q2</th>\n",
       "      <td>3.111440</td>\n",
       "    </tr>\n",
       "  </tbody>\n",
       "</table>\n",
       "</div>"
      ],
      "text/plain": [
       "          Growth\n",
       "Date            \n",
       "1995Q2  2.165840\n",
       "1995Q3  0.928983\n",
       "1995Q4  1.472934\n",
       "1996Q1  0.467799\n",
       "1996Q2  3.111440"
      ]
     },
     "execution_count": 5,
     "metadata": {},
     "output_type": "execute_result"
    }
   ],
   "source": [
    "# Multiply by 400 to obtain annualized growth rate from quarterly data\n",
    "dfEU_Growth = pd.DataFrame(((np.log(dfEU_GDP['GDP']).diff())*400).dropna())\n",
    "dfEU_Growth.columns = ['Growth']\n",
    "dfEU_Growth.index = pd.PeriodIndex(dfEU_Growth.index, freq='Q')\n",
    "dfEU_Growth.head()"
   ]
  },
  {
   "cell_type": "code",
   "execution_count": 6,
   "metadata": {},
   "outputs": [
    {
     "data": {
      "image/png": "[encoded data removed]",
      "text/plain": [
       "<Figure size 432x288 with 1 Axes>"
      ]
     },
     "metadata": {},
     "output_type": "display_data"
    }
   ],
   "source": [
    "sns.lineplot(x=dfEU_Growth.index.to_timestamp(), y=dfEU_Growth['Growth']);"
   ]
  },
  {
   "cell_type": "code",
   "execution_count": 7,
   "metadata": {},
   "outputs": [
    {
     "data": {
      "text/html": [
       "<div>\n",
       "<style scoped>\n",
       "    .dataframe tbody tr th:only-of-type {\n",
       "        vertical-align: middle;\n",
       "    }\n",
       "\n",
       "    .dataframe tbody tr th {\n",
       "        vertical-align: top;\n",
       "    }\n",
       "\n",
       "    .dataframe thead th {\n",
       "        text-align: right;\n",
       "    }\n",
       "</style>\n",
       "<table border=\"1\" class=\"dataframe\">\n",
       "  <thead>\n",
       "    <tr style=\"text-align: right;\">\n",
       "      <th></th>\n",
       "      <th>Growth</th>\n",
       "    </tr>\n",
       "    <tr>\n",
       "      <th>Date</th>\n",
       "      <th></th>\n",
       "    </tr>\n",
       "  </thead>\n",
       "  <tbody>\n",
       "    <tr>\n",
       "      <th>2018Q4</th>\n",
       "      <td>2.018157</td>\n",
       "    </tr>\n",
       "    <tr>\n",
       "      <th>2019Q1</th>\n",
       "      <td>1.892040</td>\n",
       "    </tr>\n",
       "    <tr>\n",
       "      <th>2019Q2</th>\n",
       "      <td>0.826247</td>\n",
       "    </tr>\n",
       "    <tr>\n",
       "      <th>2019Q3</th>\n",
       "      <td>0.801331</td>\n",
       "    </tr>\n",
       "    <tr>\n",
       "      <th>2019Q4</th>\n",
       "      <td>0.544432</td>\n",
       "    </tr>\n",
       "  </tbody>\n",
       "</table>\n",
       "</div>"
      ],
      "text/plain": [
       "          Growth\n",
       "Date            \n",
       "2018Q4  2.018157\n",
       "2019Q1  1.892040\n",
       "2019Q2  0.826247\n",
       "2019Q3  0.801331\n",
       "2019Q4  0.544432"
      ]
     },
     "execution_count": 7,
     "metadata": {},
     "output_type": "execute_result"
    }
   ],
   "source": [
    "# Remove outliers due to COVID-19\n",
    "dfEU_Growth = dfEU_Growth.loc[dfEU_Growth.index < '2020Q1']\n",
    "dfEU_Growth.tail()"
   ]
  },
  {
   "cell_type": "code",
   "execution_count": 8,
   "metadata": {},
   "outputs": [
    {
     "data": {
      "image/png": "[encoded data removed]",
      "text/plain": [
       "<Figure size 432x288 with 1 Axes>"
      ]
     },
     "metadata": {},
     "output_type": "display_data"
    }
   ],
   "source": [
    "sns.lineplot(x=dfEU_Growth.index.to_timestamp(), y=dfEU_Growth['Growth']);"
   ]
  },
  {
   "cell_type": "markdown",
   "metadata": {},
   "source": [
    "# Time Series Analysis"
   ]
  },
  {
   "cell_type": "code",
   "execution_count": 9,
   "metadata": {},
   "outputs": [
    {
     "data": {
      "text/plain": [
       "(-5.935441401308848,\n",
       " 2.3269081222850387e-07,\n",
       " 0,\n",
       " 98,\n",
       " {'1%': -3.4989097606014496,\n",
       "  '5%': -2.891516256916761,\n",
       "  '10%': -2.5827604414827157},\n",
       " 386.0558499166743)"
      ]
     },
     "execution_count": 9,
     "metadata": {},
     "output_type": "execute_result"
    }
   ],
   "source": [
    "# Test Stationarity\n",
    "adfuller(dfEU_Growth)"
   ]
  },
  {
   "cell_type": "markdown",
   "metadata": {},
   "source": [
    "The null hypothesis that a unit root is present in a time series is rejected, therefore the series is stationary."
   ]
  },
  {
   "cell_type": "code",
   "execution_count": 10,
   "metadata": {},
   "outputs": [
    {
     "data": {
      "image/png": "[encoded data removed]",
      "text/plain": [
       "<Figure size 432x288 with 1 Axes>"
      ]
     },
     "metadata": {},
     "output_type": "display_data"
    },
    {
     "data": {
      "image/png": "[encoded data removed]",
      "text/plain": [
       "<Figure size 432x288 with 1 Axes>"
      ]
     },
     "metadata": {},
     "output_type": "display_data"
    }
   ],
   "source": [
    "# Autocovariance and Partial Autocovariance\n",
    "plot_acf(dfEU_Growth), plot_pacf(dfEU_Growth);"
   ]
  },
  {
   "cell_type": "markdown",
   "metadata": {},
   "source": [
    "The autocovariance and partial autocovariance functions (ACF/PACF) can be used to determine the order of the ARIMA process. The decaying ACF and the significant first lag of the PACF suggest that the process is an AR(1). To consolidate this result I look at the Bayesian information criterion (BIC) of an ARIMA(1,0,0), ARIMA(0,0,1), and ARIMA(1,0,1)."
   ]
  },
  {
   "cell_type": "code",
   "execution_count": 11,
   "metadata": {
    "scrolled": false
   },
   "outputs": [
    {
     "name": "stdout",
     "output_type": "stream",
     "text": [
      "                               SARIMAX Results                                \n",
      "==============================================================================\n",
      "Dep. Variable:                 Growth   No. Observations:                   99\n",
      "Model:                 ARIMA(1, 0, 0)   Log Likelihood                -215.967\n",
      "Date:                Tue, 16 Feb 2021   AIC                            437.934\n",
      "Time:                        21:48:01   BIC                            445.719\n",
      "Sample:                    06-30-1995   HQIC                           441.084\n",
      "                         - 12-31-2019                                         \n",
      "Covariance Type:                  opg                                         \n",
      "==============================================================================\n",
      "                 coef    std err          z      P>|z|      [0.025      0.975]\n",
      "------------------------------------------------------------------------------\n",
      "const          1.6785      0.402      4.173      0.000       0.890       2.467\n",
      "ar.L1          0.4577      0.041     11.195      0.000       0.378       0.538\n",
      "sigma2         4.5846      0.292     15.710      0.000       4.013       5.157\n",
      "===================================================================================\n",
      "Ljung-Box (L1) (Q):                   0.18   Jarque-Bera (JB):               292.48\n",
      "Prob(Q):                              0.67   Prob(JB):                         0.00\n",
      "Heteroskedasticity (H):               0.21   Skew:                             0.43\n",
      "Prob(H) (two-sided):                  0.00   Kurtosis:                        11.38\n",
      "===================================================================================\n",
      "\n",
      "Warnings:\n",
      "[1] Covariance matrix calculated using the outer product of gradients (complex-step).\n"
     ]
    }
   ],
   "source": [
    "mod=ARIMA(dfEU_Growth, order=(1,0,0)).fit()\n",
    "print(mod.summary())"
   ]
  },
  {
   "cell_type": "code",
   "execution_count": 12,
   "metadata": {
    "scrolled": false
   },
   "outputs": [
    {
     "name": "stdout",
     "output_type": "stream",
     "text": [
      "                               SARIMAX Results                                \n",
      "==============================================================================\n",
      "Dep. Variable:                 Growth   No. Observations:                   99\n",
      "Model:                 ARIMA(0, 0, 1)   Log Likelihood                -219.124\n",
      "Date:                Tue, 16 Feb 2021   AIC                            444.249\n",
      "Time:                        21:48:01   BIC                            452.034\n",
      "Sample:                    06-30-1995   HQIC                           447.399\n",
      "                         - 12-31-2019                                         \n",
      "Covariance Type:                  opg                                         \n",
      "==============================================================================\n",
      "                 coef    std err          z      P>|z|      [0.025      0.975]\n",
      "------------------------------------------------------------------------------\n",
      "const          1.6837      0.307      5.492      0.000       1.083       2.285\n",
      "ma.L1          0.3575      0.058      6.182      0.000       0.244       0.471\n",
      "sigma2         4.8915      0.325     15.066      0.000       4.255       5.528\n",
      "===================================================================================\n",
      "Ljung-Box (L1) (Q):                   0.80   Jarque-Bera (JB):               292.02\n",
      "Prob(Q):                              0.37   Prob(JB):                         0.00\n",
      "Heteroskedasticity (H):               0.25   Skew:                             0.19\n",
      "Prob(H) (two-sided):                  0.00   Kurtosis:                        11.41\n",
      "===================================================================================\n",
      "\n",
      "Warnings:\n",
      "[1] Covariance matrix calculated using the outer product of gradients (complex-step).\n"
     ]
    }
   ],
   "source": [
    "mod=ARIMA(dfEU_Growth, order=(0,0,1)).fit()\n",
    "print(mod.summary())"
   ]
  },
  {
   "cell_type": "code",
   "execution_count": 13,
   "metadata": {
    "scrolled": false
   },
   "outputs": [
    {
     "name": "stdout",
     "output_type": "stream",
     "text": [
      "                               SARIMAX Results                                \n",
      "==============================================================================\n",
      "Dep. Variable:                 Growth   No. Observations:                   99\n",
      "Model:                 ARIMA(1, 0, 1)   Log Likelihood                -215.517\n",
      "Date:                Tue, 16 Feb 2021   AIC                            439.034\n",
      "Time:                        21:48:01   BIC                            449.414\n",
      "Sample:                    06-30-1995   HQIC                           443.234\n",
      "                         - 12-31-2019                                         \n",
      "Covariance Type:                  opg                                         \n",
      "==============================================================================\n",
      "                 coef    std err          z      P>|z|      [0.025      0.975]\n",
      "------------------------------------------------------------------------------\n",
      "const          1.6735      0.459      3.642      0.000       0.773       2.574\n",
      "ar.L1          0.6058      0.215      2.820      0.005       0.185       1.027\n",
      "ma.L1         -0.1885      0.254     -0.742      0.458      -0.686       0.309\n",
      "sigma2         4.5424      0.321     14.161      0.000       3.914       5.171\n",
      "===================================================================================\n",
      "Ljung-Box (L1) (Q):                   0.00   Jarque-Bera (JB):               287.23\n",
      "Prob(Q):                              1.00   Prob(JB):                         0.00\n",
      "Heteroskedasticity (H):               0.20   Skew:                             0.49\n",
      "Prob(H) (two-sided):                  0.00   Kurtosis:                        11.29\n",
      "===================================================================================\n",
      "\n",
      "Warnings:\n",
      "[1] Covariance matrix calculated using the outer product of gradients (complex-step).\n"
     ]
    }
   ],
   "source": [
    "mod=ARIMA(dfEU_Growth, order=(1,0,1)).fit()\n",
    "print(mod.summary())"
   ]
  },
  {
   "cell_type": "markdown",
   "metadata": {},
   "source": [
    "I choose the ARIMA(1,0,0) specification based on the BIC."
   ]
  },
  {
   "cell_type": "code",
   "execution_count": 14,
   "metadata": {
    "scrolled": false
   },
   "outputs": [
    {
     "data": {
      "image/png": "[encoded data removed]",
      "text/plain": [
       "<Figure size 432x288 with 1 Axes>"
      ]
     },
     "metadata": {},
     "output_type": "display_data"
    },
    {
     "data": {
      "image/png": "[encoded data removed]",
      "text/plain": [
       "<Figure size 432x288 with 1 Axes>"
      ]
     },
     "metadata": {},
     "output_type": "display_data"
    }
   ],
   "source": [
    "mod=ARIMA(dfEU_Growth.dropna(), order=(1,0,0)).fit()\n",
    "plot_acf(mod.resid), plot_pacf(mod.resid);"
   ]
  },
  {
   "cell_type": "code",
   "execution_count": 15,
   "metadata": {
    "scrolled": false
   },
   "outputs": [
    {
     "data": {
      "image/png": "[encoded data removed]",
      "text/plain": [
       "<Figure size 432x288 with 1 Axes>"
      ]
     },
     "metadata": {},
     "output_type": "display_data"
    },
    {
     "data": {
      "image/png": "[encoded data removed]",
      "text/plain": [
       "<Figure size 432x288 with 1 Axes>"
      ]
     },
     "metadata": {},
     "output_type": "display_data"
    }
   ],
   "source": [
    "plot_acf(mod.resid**2), plot_pacf(mod.resid**2);"
   ]
  },
  {
   "cell_type": "markdown",
   "metadata": {},
   "source": [
    "The residuals and the squared residuals are white noise. Significant lags in the squared residuals would have indicated the need for an ARCH/GARCH extension to the model."
   ]
  },
  {
   "cell_type": "code",
   "execution_count": 16,
   "metadata": {},
   "outputs": [],
   "source": [
    "# Save DataFrame\n",
    "dfEU_Growth.to_pickle('EU_Growth.pkl')"
   ]
  }
 ],
 "metadata": {
  "kernelspec": {
   "display_name": "Python 3",
   "language": "python",
   "name": "python3"
  },
  "language_info": {
   "codemirror_mode": {
    "name": "ipython",
    "version": 3
   },
   "file_extension": ".py",
   "mimetype": "text/x-python",
   "name": "python",
   "nbconvert_exporter": "python",
   "pygments_lexer": "ipython3",
   "version": "3.8.5"
  }
 },
 "nbformat": 4,
 "nbformat_minor": 4
}
